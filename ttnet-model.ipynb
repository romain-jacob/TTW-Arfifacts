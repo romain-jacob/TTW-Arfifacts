{
 "cells": [
  {
   "cell_type": "markdown",
   "metadata": {},
   "source": [
    "# TTnet Model\n",
    "\n",
    "This notebook presents the files and functions implementing the time and energy model of TTnet. All functions and parameters are contained in the `ttnet_model.py` file. Constant parameter values depend on the chose hardware (radio parameters), Glossy implementation, and TTnet implementation.\n",
    "\n",
    "We list them in the cell below for completness."
   ]
  },
  {
   "cell_type": "code",
   "execution_count": 1,
   "metadata": {},
   "outputs": [],
   "source": [
    "# 1. Radio parameters ==\n",
    "L_cal       = 3         # Bytes Length of calibration Bytes\n",
    "L_header    = 5         # Bytes Length of Glossy header\n",
    "Rbits       = 250       # bit/ms Radio bit rate\n",
    "\n",
    "# 2. Glossy parameters\n",
    "Tcal        = 0.096     # ms Length of calibration Bytes\n",
    "Theader     = 0.16      # ms Length of LWB/Glossy header\n",
    "Twu_data    = 0.13      # ms Wake-up time at slot start (radio off)\n",
    "Twu_control = 1.2       # ms Radio start time for sync packets (radio off)\n",
    "Tstart_slot = 0.100883333333333 # ms Radio start time (radio on)\n",
    "Td          = 0.174671212121212 # ms Software delay between flood phases\n",
    "TdeepWU     = 0.7417    # ms Additional setup time after from deep sleep\n",
    "\n",
    "# 3. TTnet implementation parameters\n",
    "L_beacon        = 2     # Bytes Beacon size\n",
    "T_gap           = 1.5   # ms Gap time\n",
    "T_gap_control   = 1.5   # ms Gap time (post_control)\n",
    "T_guard         = 0.1   # ms Guard time Same for control and data slots (included in T_gap)\n",
    "T_preprocess    = 2     # ms Pre-process time\n",
    "T_switch        = 0.3   # ms Switch between RX/TX Includes the time for preamble and sync bytes\n",
    "T_slack         = 0.25  # ms Slack time in T_slot_min() macro\n",
    "T_slot_base     = 0.5   # ms Granularity of T_slot values\n",
    "T_post_cb       = 1     # ms Time for the on_slot_post_cb() of the last slot\n",
    "T_round_end     = 1.5   # ms Time for state-keeping at the end of the Baloo round [upper-bounded to 0.5ms]"
   ]
  },
  {
   "cell_type": "markdown",
   "metadata": {},
   "source": [
    "The Glossy parameters have been measured for our specific Glossy implementation for the [DPP-cc430 platform](https://github.com/ETHZ-TEC/Baloo/wiki/platform-dpp-cc430), which is available in the [Baloo repository](https://github.com/ETHZ-TEC/Baloo), together with our [TTnet implementation](https://github.com/ETHZ-TEC/Baloo/tree/master/examples/baloo-ttnet). \n",
    "\n",
    "The knowledge of the Glossy parameters is necessary to properly size the various time buffers in the TTnet implementation (eg, `T_switch` and `T_preprocess`) Refer to the [Baloo Wiki](https://github.com/ETHZ-TEC/Baloo/wiki) for the definition of these TTnet parameters.\n",
    "\n",
    "There remains four variable parameters listed in the table below:\n",
    "\n",
    "|Parameter|Description|Value(s)|Unit|\n",
    "|---|---|---|---|\n",
    "|H|Provisioned diameter|4|.|\n",
    "|N|Number of retransmissions|2|.|\n",
    "|B|Number of slots per round|5,10,30|.|\n",
    "|L|Payload size|8,16,64|Bytes|\n",
    "\n",
    "Based on these parameters, `ttnet_model.py` provides functions that computes the equations from our TTnet model, all computed in milliseconds.\n",
    "\n",
    "# TODO: solve mismatch\n",
    "\n",
    "okay here I have the following problem: the numerical model matches the implementation. The description of the model in the paper not really (some things are missing in the paper). How to resove?"
   ]
  },
  {
   "cell_type": "code",
   "execution_count": 2,
   "metadata": {},
   "outputs": [
    {
     "data": {
      "text/plain": [
       "'\\nE = (T^on_no-round - T^on_round) / T^on_no-round\\nT^on_no-round(B,L) = B * (T^on_beacon + T^on_slot(L))\\n'"
      ]
     },
     "execution_count": 2,
     "metadata": {},
     "output_type": "execute_result"
    }
   ],
   "source": [
    "'''\n",
    "Equation (1)\n",
    "\n",
    "T_slot(L) = ceil( (H + 2*N -1) * (8*( L_header + L )/Rbits + T_switch) + T_slack )\n",
    "\n",
    "rounded up to T_slot_base\n",
    "'''\n",
    "\n",
    "\n",
    "''' \n",
    "T_beacon = T_guard + (H + 2*N -1) * (8*( L_header + L_beacon )/Rbits + T_switch) + T_slack\n",
    "\n",
    "computed in ms\n",
    "'''\n",
    "\n",
    "\n",
    "'''\n",
    "T_round(B,L) = T_guard + T_preprocess + T_beacon + T_gap_control + B*T_slot(L) + (B-1)* T_gap + T_round_end\n",
    "'''\n",
    "\n",
    "\n",
    "\n",
    "'''\n",
    "T^on_beacon = T_start_slot + T_guard + (H + 2*N -1) * (T_d + T_cal + T_header + 8*L_beacon/Rbits)\n",
    "'''\n",
    "\n",
    "'''\n",
    "T^on_slot(L) = T_start_slot + T_guard + (H + 2*N -1) * (T_d + T_cal + T_header + 8*L/Rbits)\n",
    "'''\n",
    "\n",
    "\n",
    "'''\n",
    "T^on_round = T^on_beacon + B*T^on_slot(L)\n",
    "'''\n",
    "\n",
    "\n",
    "\n",
    "'''\n",
    "E = (T^on_no-round - T^on_round) / T^on_no-round\n",
    "T^on_no-round(B,L) = B * (T^on_beacon + T^on_slot(L))\n",
    "'''"
   ]
  },
  {
   "cell_type": "code",
   "execution_count": 5,
   "metadata": {},
   "outputs": [
    {
     "name": "stdout",
     "output_type": "stream",
     "text": [
      "The autoreload extension is already loaded. To reload it, use:\n",
      "  %reload_ext autoreload\n"
     ]
    }
   ],
   "source": [
    "import plotly.io as pio\n",
    "pio.templates.default = \"none\"\n",
    "\n",
    "from src.ttnet_model import *\n",
    "from src.ttnet_plots import *\n",
    "\n",
    "%load_ext autoreload\n",
    "%autoreload 2"
   ]
  },
  {
   "cell_type": "code",
   "execution_count": 11,
   "metadata": {},
   "outputs": [
    {
     "data": {
      "application/vnd.plotly.v1+json": {
       "config": {
        "plotlyServerURL": "https://plot.ly"
       },
       "data": [
        {
         "hoverinfo": "none",
         "marker": {
          "color": "#FEECD8"
         },
         "name": "No inheritance",
         "text": [
          "8",
          "16",
          "16",
          "16",
          "8"
         ],
         "textposition": "outside",
         "type": "bar",
         "x": [
          1,
          2,
          3,
          4,
          5
         ],
         "y": [
          8,
          16,
          16,
          16,
          8
         ]
        },
        {
         "hoverinfo": "none",
         "marker": {
          "color": "#FF9932"
         },
         "name": "Minimal inheritance",
         "text": [
          "8",
          "16",
          "16",
          "16",
          "8"
         ],
         "textposition": "outside",
         "type": "bar",
         "x": [
          1,
          2,
          3,
          4,
          5
         ],
         "y": [
          8,
          16,
          16,
          16,
          8
         ]
        },
        {
         "hoverinfo": "none",
         "marker": {
          "color": "#A84700"
         },
         "name": "Full inheritance",
         "text": [
          "8",
          "20",
          "20",
          "24",
          "26"
         ],
         "textposition": "outside",
         "type": "bar",
         "x": [
          1,
          2,
          3,
          4,
          5
         ],
         "y": [
          8,
          20,
          20,
          24,
          26
         ]
        }
       ],
       "layout": {
        "annotations": [
         {
          "showarrow": false,
          "text": "Number of rounds scheduled",
          "x": 0,
          "xanchor": "left",
          "xref": "paper",
          "y": 1.2,
          "yref": "paper"
         }
        ],
        "bargap": 0.3,
        "bargroupgap": 0.1,
        "barmode": "group",
        "legend": {
         "orientation": "h",
         "x": 0,
         "y": 1
        },
        "template": {
         "data": {
          "scatter": [
           {
            "type": "scatter"
           }
          ]
         }
        },
        "xaxis": {
         "title": {
          "text": "Operation modes"
         }
        }
       }
      },
      "text/html": [
       "<div>\n",
       "        \n",
       "        \n",
       "            <div id=\"477d00ec-e277-4b46-ba4f-9e6824917b75\" class=\"plotly-graph-div\" style=\"height:525px; width:100%;\"></div>\n",
       "            <script type=\"text/javascript\">\n",
       "                require([\"plotly\"], function(Plotly) {\n",
       "                    window.PLOTLYENV=window.PLOTLYENV || {};\n",
       "                    \n",
       "                if (document.getElementById(\"477d00ec-e277-4b46-ba4f-9e6824917b75\")) {\n",
       "                    Plotly.newPlot(\n",
       "                        '477d00ec-e277-4b46-ba4f-9e6824917b75',\n",
       "                        [{\"hoverinfo\": \"none\", \"marker\": {\"color\": \"#FEECD8\"}, \"name\": \"No inheritance\", \"text\": [\"8\", \"16\", \"16\", \"16\", \"8\"], \"textposition\": \"outside\", \"type\": \"bar\", \"x\": [1, 2, 3, 4, 5], \"y\": [8, 16, 16, 16, 8]}, {\"hoverinfo\": \"none\", \"marker\": {\"color\": \"#FF9932\"}, \"name\": \"Minimal inheritance\", \"text\": [\"8\", \"16\", \"16\", \"16\", \"8\"], \"textposition\": \"outside\", \"type\": \"bar\", \"x\": [1, 2, 3, 4, 5], \"y\": [8, 16, 16, 16, 8]}, {\"hoverinfo\": \"none\", \"marker\": {\"color\": \"#A84700\"}, \"name\": \"Full inheritance\", \"text\": [\"8\", \"20\", \"20\", \"24\", \"26\"], \"textposition\": \"outside\", \"type\": \"bar\", \"x\": [1, 2, 3, 4, 5], \"y\": [8, 20, 20, 24, 26]}],\n",
       "                        {\"annotations\": [{\"showarrow\": false, \"text\": \"Number of rounds scheduled\", \"x\": 0, \"xanchor\": \"left\", \"xref\": \"paper\", \"y\": 1.2, \"yref\": \"paper\"}], \"bargap\": 0.3, \"bargroupgap\": 0.1, \"barmode\": \"group\", \"legend\": {\"orientation\": \"h\", \"x\": 0, \"y\": 1.0}, \"template\": {\"data\": {\"scatter\": [{\"type\": \"scatter\"}]}}, \"xaxis\": {\"title\": {\"text\": \"Operation modes\"}}},\n",
       "                        {\"responsive\": true}\n",
       "                    ).then(function(){\n",
       "                            \n",
       "var gd = document.getElementById('477d00ec-e277-4b46-ba4f-9e6824917b75');\n",
       "var x = new MutationObserver(function (mutations, observer) {{\n",
       "        var display = window.getComputedStyle(gd).display;\n",
       "        if (!display || display === 'none') {{\n",
       "            console.log([gd, 'removed!']);\n",
       "            Plotly.purge(gd);\n",
       "            observer.disconnect();\n",
       "        }}\n",
       "}});\n",
       "\n",
       "// Listen for the removal of the full notebook cells\n",
       "var notebookContainer = gd.closest('#notebook-container');\n",
       "if (notebookContainer) {{\n",
       "    x.observe(notebookContainer, {childList: true});\n",
       "}}\n",
       "\n",
       "// Listen for the clearing of the current output cell\n",
       "var outputEl = gd.closest('.output');\n",
       "if (outputEl) {{\n",
       "    x.observe(outputEl, {childList: true});\n",
       "}}\n",
       "\n",
       "                        })\n",
       "                };\n",
       "                });\n",
       "            </script>\n",
       "        </div>"
      ]
     },
     "metadata": {},
     "output_type": "display_data"
    }
   ],
   "source": [
    "# plot_protocol_overhead()\n",
    "# plot_protocol_overhead()\n",
    "# plot_round_length()\n",
    "plot_inheritance_results()"
   ]
  },
  {
   "cell_type": "code",
   "execution_count": 10,
   "metadata": {
    "scrolled": false
   },
   "outputs": [
    {
     "data": {
      "application/vnd.plotly.v1+json": {
       "config": {
        "plotlyServerURL": "https://plot.ly"
       },
       "data": [
        {
         "line": {
          "color": "#3D1B08",
          "width": 3
         },
         "mode": "lines",
         "name": "L = 8B",
         "type": "scatter",
         "x": [
          1,
          2,
          3,
          4,
          5,
          6,
          7,
          8,
          9,
          10,
          11,
          12,
          13,
          14,
          15,
          16,
          17,
          18,
          19,
          20,
          21,
          22,
          23,
          24,
          25,
          26,
          27,
          28,
          29,
          30,
          31,
          32,
          33,
          34
         ],
         "y": [
          0,
          21.125087541988705,
          28.166783389318272,
          31.687631312983054,
          33.80014006718192,
          35.20847923664785,
          36.21443578626635,
          36.96890319848023,
          37.55571118575769,
          38.02515757557966,
          38.4092500763431,
          38.72932716031262,
          39.00016161597916,
          39.23230543512189,
          39.43349674504558,
          39.60953914122882,
          39.76487066727286,
          39.902943134867556,
          40.02648165850491,
          40.13766632977854,
          40.23826198474039,
          40.32971258016026,
          40.413210949891436,
          40.48975112214501,
          40.56016808061831,
          40.62516834997828,
          40.685353784570836,
          40.74124025954964,
          40.793272494874735,
          40.841835914511485,
          40.88726621030071,
          40.929857112603116,
          40.96986674809931,
          41.00752287562513
         ]
        },
        {
         "line": {
          "color": "#A84700",
          "width": 3
         },
         "mode": "lines",
         "name": "L = 16B",
         "type": "scatter",
         "x": [
          1,
          2,
          3,
          4,
          5,
          6,
          7,
          8,
          9,
          10,
          11,
          12,
          13,
          14,
          15,
          16,
          17,
          18,
          19,
          20,
          21,
          22,
          23,
          24,
          25,
          26,
          27,
          28,
          29,
          30,
          31,
          32,
          33,
          34
         ],
         "y": [
          0,
          17.50704636525716,
          23.342728487009552,
          26.260569547885744,
          28.011274184411448,
          29.17841060876194,
          30.012079483298002,
          30.637331139200036,
          31.1236379826794,
          31.512683457462888,
          31.830993391376673,
          32.096251669638136,
          32.32070098201322,
          32.51308610690617,
          32.67981988181337,
          32.82571193485718,
          32.954440216954666,
          33.06886535659686,
          33.17124574469778,
          33.263388093988596,
          33.34675498144222,
          33.4225430609455,
          33.49174087266587,
          33.55517220007623,
          33.61352902129375,
          33.66739685626377,
          33.717274481236004,
          33.76358941871025,
          33.806710222565556,
          33.84695630616385,
          33.884605868239674,
          33.91990233268575,
          33.953059617468426,
          33.98426647373449
         ]
        },
        {
         "line": {
          "color": "#FF9932",
          "width": 3
         },
         "mode": "lines",
         "name": "L = 64B",
         "type": "scatter",
         "x": [
          1,
          2,
          3,
          4,
          5,
          6,
          7,
          8,
          9,
          10,
          11,
          12,
          13,
          14,
          15,
          16,
          17,
          18,
          19,
          20,
          21,
          22,
          23,
          24,
          25,
          26,
          27,
          28,
          29,
          30,
          31,
          32,
          33,
          34
         ],
         "y": [
          0,
          8.634347302186944,
          11.512463069582592,
          12.951520953280424,
          13.814955683499111,
          14.390578836978246,
          14.801738232320485,
          15.110107778827148,
          15.349950759443443,
          15.54182514393649,
          15.698813276703541,
          15.82963672067606,
          15.940333480960511,
          16.035216418347183,
          16.117448297415642,
          16.189401191600528,
          16.252889039410718,
          16.309322681908668,
          16.359815940985794,
          16.405259874155192,
          16.446375813689425,
          16.483753940538726,
          16.517881795488076,
          16.54916566252498,
          16.577946820198942,
          16.604514042667205,
          16.629113322730422,
          16.65195551136054,
          16.67322237663685,
          16.693071450894767,
          16.711639939716672,
          16.729047897987208,
          16.74540082848377,
          16.7607918218923
         ]
        }
       ],
       "layout": {
        "annotations": [
         {
          "showarrow": false,
          "text": "Energy savings E [%]",
          "x": 0,
          "xanchor": "left",
          "xref": "paper",
          "y": 1.2,
          "yref": "paper"
         }
        ],
        "font": {
         "size": 14
        },
        "height": 250,
        "legend": {
         "font": {
          "size": 14
         },
         "orientation": "h",
         "x": 0.05,
         "y": 1
        },
        "margin": {
         "b": 45,
         "l": 30,
         "r": 0,
         "t": 45
        },
        "template": {
         "data": {
          "scatter": [
           {
            "type": "scatter"
           }
          ]
         }
        },
        "title": {},
        "width": 409.6,
        "xaxis": {
         "title": {
          "font": {
           "size": 14
          },
          "text": "Number of slots per round B [.]"
         }
        },
        "yaxis": {
         "range": [
          0,
          55
         ]
        }
       }
      },
      "text/html": [
       "<div>\n",
       "        \n",
       "        \n",
       "            <div id=\"912cfe34-d07f-44a6-911a-293bb0f85ed6\" class=\"plotly-graph-div\" style=\"height:250px; width:409.6px;\"></div>\n",
       "            <script type=\"text/javascript\">\n",
       "                require([\"plotly\"], function(Plotly) {\n",
       "                    window.PLOTLYENV=window.PLOTLYENV || {};\n",
       "                    \n",
       "                if (document.getElementById(\"912cfe34-d07f-44a6-911a-293bb0f85ed6\")) {\n",
       "                    Plotly.newPlot(\n",
       "                        '912cfe34-d07f-44a6-911a-293bb0f85ed6',\n",
       "                        [{\"line\": {\"color\": \"#3D1B08\", \"width\": 3}, \"mode\": \"lines\", \"name\": \"L = 8B\", \"type\": \"scatter\", \"x\": [1, 2, 3, 4, 5, 6, 7, 8, 9, 10, 11, 12, 13, 14, 15, 16, 17, 18, 19, 20, 21, 22, 23, 24, 25, 26, 27, 28, 29, 30, 31, 32, 33, 34], \"y\": [0.0, 21.125087541988705, 28.166783389318272, 31.687631312983054, 33.80014006718192, 35.20847923664785, 36.21443578626635, 36.96890319848023, 37.55571118575769, 38.02515757557966, 38.4092500763431, 38.72932716031262, 39.00016161597916, 39.23230543512189, 39.43349674504558, 39.60953914122882, 39.76487066727286, 39.902943134867556, 40.02648165850491, 40.13766632977854, 40.23826198474039, 40.32971258016026, 40.413210949891436, 40.48975112214501, 40.56016808061831, 40.62516834997828, 40.685353784570836, 40.74124025954964, 40.793272494874735, 40.841835914511485, 40.88726621030071, 40.929857112603116, 40.96986674809931, 41.00752287562513]}, {\"line\": {\"color\": \"#A84700\", \"width\": 3}, \"mode\": \"lines\", \"name\": \"L = 16B\", \"type\": \"scatter\", \"x\": [1, 2, 3, 4, 5, 6, 7, 8, 9, 10, 11, 12, 13, 14, 15, 16, 17, 18, 19, 20, 21, 22, 23, 24, 25, 26, 27, 28, 29, 30, 31, 32, 33, 34], \"y\": [0.0, 17.50704636525716, 23.342728487009552, 26.260569547885744, 28.011274184411448, 29.17841060876194, 30.012079483298002, 30.637331139200036, 31.1236379826794, 31.512683457462888, 31.830993391376673, 32.096251669638136, 32.32070098201322, 32.51308610690617, 32.67981988181337, 32.82571193485718, 32.954440216954666, 33.06886535659686, 33.17124574469778, 33.263388093988596, 33.34675498144222, 33.4225430609455, 33.49174087266587, 33.55517220007623, 33.61352902129375, 33.66739685626377, 33.717274481236004, 33.76358941871025, 33.806710222565556, 33.84695630616385, 33.884605868239674, 33.91990233268575, 33.953059617468426, 33.98426647373449]}, {\"line\": {\"color\": \"#FF9932\", \"width\": 3}, \"mode\": \"lines\", \"name\": \"L = 64B\", \"type\": \"scatter\", \"x\": [1, 2, 3, 4, 5, 6, 7, 8, 9, 10, 11, 12, 13, 14, 15, 16, 17, 18, 19, 20, 21, 22, 23, 24, 25, 26, 27, 28, 29, 30, 31, 32, 33, 34], \"y\": [0.0, 8.634347302186944, 11.512463069582592, 12.951520953280424, 13.814955683499111, 14.390578836978246, 14.801738232320485, 15.110107778827148, 15.349950759443443, 15.54182514393649, 15.698813276703541, 15.82963672067606, 15.940333480960511, 16.035216418347183, 16.117448297415642, 16.189401191600528, 16.252889039410718, 16.309322681908668, 16.359815940985794, 16.405259874155192, 16.446375813689425, 16.483753940538726, 16.517881795488076, 16.54916566252498, 16.577946820198942, 16.604514042667205, 16.629113322730422, 16.65195551136054, 16.67322237663685, 16.693071450894767, 16.711639939716672, 16.729047897987208, 16.74540082848377, 16.7607918218923]}],\n",
       "                        {\"annotations\": [{\"showarrow\": false, \"text\": \"Energy savings E [%]\", \"x\": 0, \"xanchor\": \"left\", \"xref\": \"paper\", \"y\": 1.2, \"yref\": \"paper\"}], \"font\": {\"size\": 14}, \"height\": 250, \"legend\": {\"font\": {\"size\": 14}, \"orientation\": \"h\", \"x\": 0.05, \"y\": 1.0}, \"margin\": {\"b\": 45, \"l\": 30, \"r\": 0, \"t\": 45}, \"template\": {\"data\": {\"scatter\": [{\"type\": \"scatter\"}]}}, \"title\": {}, \"width\": 409.6, \"xaxis\": {\"title\": {\"font\": {\"size\": 14}, \"text\": \"Number of slots per round B [.]\"}}, \"yaxis\": {\"range\": [0, 55]}},\n",
       "                        {\"responsive\": true}\n",
       "                    ).then(function(){\n",
       "                            \n",
       "var gd = document.getElementById('912cfe34-d07f-44a6-911a-293bb0f85ed6');\n",
       "var x = new MutationObserver(function (mutations, observer) {{\n",
       "        var display = window.getComputedStyle(gd).display;\n",
       "        if (!display || display === 'none') {{\n",
       "            console.log([gd, 'removed!']);\n",
       "            Plotly.purge(gd);\n",
       "            observer.disconnect();\n",
       "        }}\n",
       "}});\n",
       "\n",
       "// Listen for the removal of the full notebook cells\n",
       "var notebookContainer = gd.closest('#notebook-container');\n",
       "if (notebookContainer) {{\n",
       "    x.observe(notebookContainer, {childList: true});\n",
       "}}\n",
       "\n",
       "// Listen for the clearing of the current output cell\n",
       "var outputEl = gd.closest('.output');\n",
       "if (outputEl) {{\n",
       "    x.observe(outputEl, {childList: true});\n",
       "}}\n",
       "\n",
       "                        })\n",
       "                };\n",
       "                });\n",
       "            </script>\n",
       "        </div>"
      ]
     },
     "metadata": {},
     "output_type": "display_data"
    }
   ],
   "source": [
    "fig = plot_energy_savings()\n",
    "custom_layout = {\n",
    "    \"title\":None,\n",
    "    \"width\":0.8*linewidth_px,\n",
    "    \"height\":250,\n",
    "    \"font\":{\"size\":14},\n",
    "    \"margin\":dict(l=30, r=0, t=45, b=45),\n",
    "    \"xaxis\":{'title':{'font':{'size':14}},\n",
    "            },\n",
    "    \"yaxis\":{'range':[0,55]},\n",
    "    \"legend\":{'font':{'size':14}}\n",
    "}\n",
    "fig.update_layout(custom_layout)\n",
    "fig.show()\n",
    "\n",
    "# Save the figure\n",
    "# plot_filename = \"energy_savings.pdf\"\n",
    "# fig.write_image(str(plot_path/plot_filename))"
   ]
  },
  {
   "cell_type": "code",
   "execution_count": null,
   "metadata": {},
   "outputs": [],
   "source": []
  }
 ],
 "metadata": {
  "kernelspec": {
   "display_name": "Python 3",
   "language": "python",
   "name": "python3"
  },
  "language_info": {
   "codemirror_mode": {
    "name": "ipython",
    "version": 3
   },
   "file_extension": ".py",
   "mimetype": "text/x-python",
   "name": "python",
   "nbconvert_exporter": "python",
   "pygments_lexer": "ipython3",
   "version": "3.7.6"
  }
 },
 "nbformat": 4,
 "nbformat_minor": 4
}
